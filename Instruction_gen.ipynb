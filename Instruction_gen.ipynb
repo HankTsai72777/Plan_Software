{
 "cells": [
  {
   "cell_type": "code",
   "execution_count": 5,
   "metadata": {},
   "outputs": [
    {
     "name": "stdout",
     "output_type": "stream",
     "text": [
      "10040000110000100\n"
     ]
    }
   ],
   "source": [
    "'''\n",
    "    ASIP instruction generator\n",
    "    [63:60] opcode (0~15):\n",
    "        1: load\n",
    "        2: dump\n",
    "        3: CPU\n",
    "        4: ADC\n",
    "        5: DLA\n",
    "        6: DMA\n",
    "    [47:24] end_addr\n",
    "    [23:0] start_addr\n",
    "'''\n",
    "from ASIP_inst_gen import ASIP_inst_gen, ASIP_txt_gen\n",
    "from ASIP_inst_gen import dec_to_bin_str, dec_to_hex_str\n",
    "ASIP_inst_0 = ASIP_inst_gen(opcode=1, spi_data_size=64, start_addr=0x010000, choose_data_num=1, data_num=1)\n",
    "print(ASIP_inst_0)"
   ]
  },
  {
   "cell_type": "code",
   "execution_count": 2,
   "metadata": {},
   "outputs": [
    {
     "name": "stdout",
     "output_type": "stream",
     "text": [
      "32-bit hex instruction: 10040000110000100\n"
     ]
    }
   ],
   "source": [
    "ASIP_inst_32bit = ASIP_txt_gen(ASIP_inst_0, file_name='ASIP_inst.txt')\n",
    "print(\"64-bit hex instruction:\", ASIP_inst_32bit)"
   ]
  },
  {
   "cell_type": "code",
   "execution_count": 11,
   "metadata": {},
   "outputs": [],
   "source": [
    "'''\n",
    "    combine the hex file of program of cpu to txt\n",
    "'''\n",
    "from prog_hex_combine import combine_hex_file\n",
    "from prog_hex_combine import hex_file_to_array\n",
    "file_path = \"./prog5\"\n",
    "output_file_path = 'prog5.txt'\n",
    "combine_hex_file(file_path, output_file_path)"
   ]
  },
  {
   "cell_type": "code",
   "execution_count": 3,
   "metadata": {},
   "outputs": [
    {
     "name": "stdout",
     "output_type": "stream",
     "text": [
      "00001000\n"
     ]
    }
   ],
   "source": [
    "def hex_to_bin_str(hex_num, bits):\n",
    "    if isinstance(hex_num, int):\n",
    "        hex_num = hex(hex_num)[2:]\n",
    "    dec_num = int(hex_num, 16)\n",
    "    bin_representation = bin(dec_num)[2:]\n",
    "    bin_num = bin_representation.zfill(bits)\n",
    "    return bin_num\n",
    "\n",
    "a = 0x8\n",
    "print(hex_to_bin_str(a, 8))  # 輸出: 00001000"
   ]
  }
 ],
 "metadata": {
  "kernelspec": {
   "display_name": "base",
   "language": "python",
   "name": "python3"
  },
  "language_info": {
   "codemirror_mode": {
    "name": "ipython",
    "version": 3
   },
   "file_extension": ".py",
   "mimetype": "text/x-python",
   "name": "python",
   "nbconvert_exporter": "python",
   "pygments_lexer": "ipython3",
   "version": "3.12.4"
  }
 },
 "nbformat": 4,
 "nbformat_minor": 2
}
