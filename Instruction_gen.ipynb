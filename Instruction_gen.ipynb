{
 "cells": [
  {
   "cell_type": "code",
   "execution_count": 9,
   "metadata": {},
   "outputs": [
    {
     "name": "stdout",
     "output_type": "stream",
     "text": [
      "1080c201\n"
     ]
    }
   ],
   "source": [
    "'''\n",
    "    ASIP instruction generator\n",
    "    [31:28] opcode (0~15):\n",
    "        1: load\n",
    "        2: dump\n",
    "        3: CPU\n",
    "        4: ADC\n",
    "        5: DLA\n",
    "        6: DMA\n",
    "    [27:14] end_addr\n",
    "    [13:0] start_addr\n",
    "        [13:9] target (0~15)\n",
    "            0~7: DLA SRAM\n",
    "            8~11: CPU SRAM\n",
    "            12~13: TBD\n",
    "        [8:0] mem addr\n",
    "'''\n",
    "from ASIP_inst_gen import ASIP_inst_gen, ASIP_txt_gen\n",
    "from ASIP_inst_gen import dec_to_bin_str, dec_to_hex_str\n",
    "ASIP_inst_0 = ASIP_inst_gen(opcode=1, end_target=1, end_addr=3,\\\n",
    "                start_target=1, start_addr=1)\n",
    "print(ASIP_inst_0)"
   ]
  },
  {
   "cell_type": "code",
   "execution_count": 10,
   "metadata": {},
   "outputs": [
    {
     "name": "stdout",
     "output_type": "stream",
     "text": [
      "32-bit hex instruction: 1080c201\n"
     ]
    }
   ],
   "source": [
    "ASIP_inst_32bit = ASIP_txt_gen(ASIP_inst_0, file_name='ASIP_inst.txt')\n",
    "print(\"32-bit hex instruction:\", ASIP_inst_32bit)"
   ]
  },
  {
   "cell_type": "code",
   "execution_count": 11,
   "metadata": {},
   "outputs": [],
   "source": [
    "'''\n",
    "    combine the hex file of program of cpu to txt\n",
    "'''\n",
    "from prog_hex_combine import combine_hex_file\n",
    "from prog_hex_combine import hex_file_to_array\n",
    "file_path = \"./prog5\"\n",
    "output_file_path = 'prog5.txt'\n",
    "combine_hex_file(file_path, output_file_path)"
   ]
  }
 ],
 "metadata": {
  "kernelspec": {
   "display_name": "base",
   "language": "python",
   "name": "python3"
  },
  "language_info": {
   "codemirror_mode": {
    "name": "ipython",
    "version": 3
   },
   "file_extension": ".py",
   "mimetype": "text/x-python",
   "name": "python",
   "nbconvert_exporter": "python",
   "pygments_lexer": "ipython3",
   "version": "3.12.4"
  }
 },
 "nbformat": 4,
 "nbformat_minor": 2
}
