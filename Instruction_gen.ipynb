{
 "cells": [
  {
   "cell_type": "code",
   "execution_count": 2,
   "metadata": {},
   "outputs": [],
   "source": [
    "'''\n",
    "    ASIP instruction generator\n",
    "    [63:60] opcode (0~15):\n",
    "        1: load\n",
    "        2: dump\n",
    "        3: ASIP\n",
    "        4: CPU\n",
    "        5: DMA\n",
    "        6: DLA\n",
    "        7: ADC\n",
    "    [47:24] end_addr\n",
    "    [23:0] start_addr\n",
    "'''\n",
    "from ASIP_inst_gen import ASIP_inst_gen, ASIP_txt_gen\n",
    "from ASIP_inst_gen import dec_to_bin_str, dec_to_hex_str"
   ]
  },
  {
   "cell_type": "code",
   "execution_count": 11,
   "metadata": {},
   "outputs": [
    {
     "name": "stdout",
     "output_type": "stream",
     "text": [
      "load_inst_0: 1000010010010000\n",
      "dump_inst_0: 2000010010010000\n",
      "load_inst_1: 1001030010030008\n",
      "dump_inst_1: 2001030010030008\n",
      "exec_inst_0: 3000010000010000\n"
     ]
    }
   ],
   "source": [
    "load_inst_0 = ASIP_inst_gen(opcode=1, spi_data_size=64, start_addr=0x010000, choose_data_num=1, data_num=3)\n",
    "print(\"load_inst_0:\", load_inst_0)\n",
    "dump_inst_0 = ASIP_inst_gen(opcode=2, spi_data_size=64, start_addr=0x010000, choose_data_num=1, data_num=3)\n",
    "print(\"dump_inst_0:\", dump_inst_0)\n",
    "load_inst_1 = ASIP_inst_gen(opcode=1, spi_data_size=32, start_addr=0x030008, choose_data_num=1, data_num=3)\n",
    "print(\"load_inst_1:\", load_inst_1)\n",
    "dump_inst_1 = ASIP_inst_gen(opcode=2, spi_data_size=32, start_addr=0x030008, choose_data_num=1, data_num=3)\n",
    "print(\"dump_inst_1:\", dump_inst_1)\n",
    "\n",
    "exe_inst_0 = ASIP_inst_gen(opcode=3, start_addr=0x10000, choose_data_num=1, data_num=1)\n",
    "print(\"exec_inst_0:\", exe_inst_0)"
   ]
  },
  {
   "cell_type": "code",
   "execution_count": 4,
   "metadata": {},
   "outputs": [
    {
     "name": "stdout",
     "output_type": "stream",
     "text": [
      "cpu_ex_isnt_0: 9000030000030000\n"
     ]
    }
   ],
   "source": [
    "'''\n",
    "    ASIP_EX_instruction\n",
    "'''\n",
    "cpu_ex_isnt_0 = ASIP_inst_gen(opcode=9, start_addr=0x30000, choose_data_num=1, data_num=1)\n",
    "print(\"cpu_ex_isnt_0:\",cpu_ex_isnt_0)"
   ]
  },
  {
   "cell_type": "code",
   "execution_count": 2,
   "metadata": {},
   "outputs": [
    {
     "name": "stdout",
     "output_type": "stream",
     "text": [
      "32-bit hex instruction: 10040000110000100\n"
     ]
    }
   ],
   "source": [
    "ASIP_inst_64bit = ASIP_txt_gen(load_inst_0, file_name='ASIP_inst.txt')\n",
    "print(\"64-bit hex instruction:\", ASIP_inst_64bit)"
   ]
  },
  {
   "cell_type": "code",
   "execution_count": 11,
   "metadata": {},
   "outputs": [],
   "source": [
    "'''\n",
    "    combine the hex file of program of cpu to txt\n",
    "'''\n",
    "from prog_hex_combine import combine_hex_file\n",
    "from prog_hex_combine import hex_file_to_array\n",
    "file_path = \"./prog5\"\n",
    "output_file_path = 'prog5.txt'\n",
    "combine_hex_file(file_path, output_file_path)"
   ]
  },
  {
   "cell_type": "code",
   "execution_count": 3,
   "metadata": {},
   "outputs": [
    {
     "name": "stdout",
     "output_type": "stream",
     "text": [
      "00001000\n"
     ]
    }
   ],
   "source": [
    "def hex_to_bin_str(hex_num, bits):\n",
    "    if isinstance(hex_num, int):\n",
    "        hex_num = hex(hex_num)[2:]\n",
    "    dec_num = int(hex_num, 16)\n",
    "    bin_representation = bin(dec_num)[2:]\n",
    "    bin_num = bin_representation.zfill(bits)\n",
    "    return bin_num\n",
    "\n",
    "a = 0x8\n",
    "print(hex_to_bin_str(a, 8))  # 輸出: 00001000"
   ]
  }
 ],
 "metadata": {
  "kernelspec": {
   "display_name": "base",
   "language": "python",
   "name": "python3"
  },
  "language_info": {
   "codemirror_mode": {
    "name": "ipython",
    "version": 3
   },
   "file_extension": ".py",
   "mimetype": "text/x-python",
   "name": "python",
   "nbconvert_exporter": "python",
   "pygments_lexer": "ipython3",
   "version": "3.12.4"
  }
 },
 "nbformat": 4,
 "nbformat_minor": 2
}
